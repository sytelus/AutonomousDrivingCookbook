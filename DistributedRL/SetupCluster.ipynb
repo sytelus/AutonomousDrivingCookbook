{
 "cells": [
  {
   "cell_type": "markdown",
   "metadata": {},
   "source": [
    "# Step 0 - Set up the Cluster\n",
    "\n",
    "## Overview\n",
    "Our goal in this series of notebooks is to train a deep reinforcement learning autonomous driving model in a distributed way using a pool of virtual machines on Microsoft Azure. We will first go over the instructions for setting up a VM cluster to prepare for the training job. The details of the RL model and the training process will be covered in later notebooks. Please note that you will require an active [Azure subscription](https://azure.microsoft.com/en-us/free/) to run the code provided here.\n",
    "\n",
    "## Create Azure service accounts\n",
    "\n",
    "In this notebook, you will set up and provision a cluster of virtual machines which will be used to distribute the training job. Before we get started, please do the following:\n",
    "\n",
    "   1. **Create an Azure storage account.** You will be using this account to create a file share that will be used by the cluster nodes to store the source code files. You can find the instructions to create the storage account [here](https://docs.microsoft.com/en-us/azure/storage/common/storage-create-storage-account). Please follow the instructions to create a general-purpose storage account and make a note of the ***resource group name***, ***account name*** and primary ***access key*** as you will be needing those shortly.\n",
    "   \n",
    "   2. **Create an Azure Batch account.** Azure Batch is a free Azure service that allows you to do cloud-scale job scheduling. You can find the instructions to create your batch account [here](https://docs.microsoft.com/en-us/azure/batch/batch-account-create-portal). Make a note of the ***account name***, primary ***access key*** and the ***batch account URL*** as you will need those shortly as well. You can find this information in the properties section of your batch account on the Azure portal.\n",
    "\n",
    "## Fill in the network configuration file\n",
    "\n",
    "In the tutorial repository, you will find a file called **notebook_config.json** with some empty fields. The rest of this tutorial will use this file to access your account information for the different Azure services used. Please follow these guidelines to fill in your information:\n",
    "\n",
    "* **\"subscription_id\"**: This is your Azure subscription ID which will be charged for the resources you use\n",
    "* **\"resource_group_name\"**: This is the name of the resource group you created your storage account in (recorded above)\n",
    "* **\"storage_account_name\"**: This is the storage account name recorded above\n",
    "* **\"storage_account_key\"**: This is the primary access key to your storage account recorded above\n",
    "* **\"file_share_name\"**: Choose a name for your file share\n",
    "* **\"batch_account_name\"**: This is the name of your Batch account recorded above\n",
    "* **\"batch_account_key\"**: This is the primary access key to your Batch account recorded above\n",
    "* **\"batch_account_url\"**: This is the batch account URL recorded above\n",
    "* **\"batch_job_user_name\"**:  Choose a username\n",
    "* **\"batch_job_user_password\"**: Choose a password\n",
    "* **\"batch_pool_name\"**: Choose a name for your pool of machines\n",
    "* **\"batch_pool_size\"**: The total number of virtual machines you want to use in your pool (minimum 2). You will need one machine to act as the parameter server and rest will take on the role of agents. For example, if you want to distribute training across 5 agent VMs, you will use a batch pool size of 6. \n",
    "\n",
    "Before setting up the cluster, you need to set up an Azure File Share to host the executable and the script files. Let's begin by importing some prerequisite libraries. "
   ]
  },
  {
   "cell_type": "code",
   "execution_count": 3,
   "metadata": {
    "collapsed": false
   },
   "outputs": [],
   "source": [
    "#Standard python libraries\n",
    "import json\n",
    "import os\n",
    "import re\n",
    "import datetime\n",
    "import time\n",
    "\n",
    "from IPython.display import clear_output\n",
    "\n",
    "#Azure file storage. To install, run 'pip install azure-storage-file'\n",
    "from azure.storage.file import FileService\n",
    "from azure.storage.file import ContentSettings\n",
    "\n",
    "#Azure blob. To install, run 'pip install azure-storage-blob'\n",
    "from azure.storage.blob import BlockBlobService\n",
    "from azure.storage.blob import PublicAccess\n",
    "\n",
    "#Azure batch. To install, run 'pip install cryptography azure-batch azure-storage'\n",
    "import azure.storage.blob as azureblob\n",
    "import azure.batch.models as batchmodels\n",
    "import azure.batch.batch_auth as batchauth\n",
    "import azure.batch as batch\n",
    "\n",
    "with open('notebook_config.json', 'r') as f:\n",
    "    NOTEBOOK_CONFIG = json.loads(f.read()) "
   ]
  },
  {
   "cell_type": "markdown",
   "metadata": {},
   "source": [
    "Now, we will generate some prerequisite files. These files are used during the setup process to configure the virtual machines. They require information unique to your cluster which we will access from the config file you created above. The three prerquisite files that will be generated are:\n",
    "\n",
    "* **mount.bat**: This batch file mounts an azure file share to a machine. It will mount the specified file share to the *Z:\\\\* directory\n",
    "* **run_airsim_on_user_login.xml**: This XML file defines a scheduled task that will restart the AirSim simulator when a user logs into an agent node. This is necessary because Azure Batch starts the executable in session 0, which means that the simulator will be accessible via API, but not visible on the screen. By restarting it on login, we can visualize the training process.\n",
    "* **setup_machine.py**: This script installs the prerequisite python libraries and configures the machine to properly run AirSim. "
   ]
  },
  {
   "cell_type": "code",
   "execution_count": 14,
   "metadata": {
    "collapsed": true
   },
   "outputs": [],
   "source": [
    "#Generate mount.bat\n",
    "with open('Template\\\\mount_bat.template', 'r') as f:\n",
    "    mount_bat_cmd = f.read()\n",
    "    \n",
    "mount_bat_cmd = mount_bat_cmd\\\n",
    "                    .replace('{storage_account_name}', NOTEBOOK_CONFIG['storage_account_name'])\\\n",
    "                    .replace('{file_share_name}', NOTEBOOK_CONFIG['file_share_name'])\\\n",
    "                    .replace('{storage_account_key}', NOTEBOOK_CONFIG['storage_account_key'])\n",
    "\n",
    "with open('Blob\\\\mount.bat', 'w') as f:\n",
    "    f.write(mount_bat_cmd)\n",
    "    \n",
    "#Generate setup_machine.py\n",
    "with open('Template\\\\setup_machine_py.template', 'r') as f:\n",
    "    setup_machine_py = f.read()\n",
    "\n",
    "setup_machine_py = setup_machine_py\\\n",
    "                    .replace('{storage_account_name}', NOTEBOOK_CONFIG['storage_account_name'])\\\n",
    "                    .replace('{file_share_name}', NOTEBOOK_CONFIG['file_share_name'])\\\n",
    "                    .replace('{storage_account_key}', NOTEBOOK_CONFIG['storage_account_key'])\\\n",
    "                    .replace('{batch_job_user_name}', NOTEBOOK_CONFIG['batch_job_user_name'])\\\n",
    "                    .replace('{batch_job_user_password}', NOTEBOOK_CONFIG['batch_job_user_password'])\n",
    "\n",
    "with open('Blob\\\\setup_machine.py', 'w') as f:\n",
    "    f.write(setup_machine_py)\n",
    "    \n",
    "#Generate run_airsim_on_user_login.xml\n",
    "with open('Template\\\\run_airsim_on_user_login_xml.template', 'r', encoding='utf-16') as f:\n",
    "    startup_task_xml = f.read()\n",
    "    \n",
    "startup_task_xml = startup_task_xml\\\n",
    "                    .replace('{batch_job_user_name}', NOTEBOOK_CONFIG['batch_job_user_name'])\n",
    "\n",
    "with open('Share\\\\scripts_downpour\\\\run_airsim_on_user_login.xml', 'w', encoding='utf-16') as f:\n",
    "    f.write(startup_task_xml)    "
   ]
  },
  {
   "cell_type": "markdown",
   "metadata": {},
   "source": [
    "Now that we have all of the prerequisite files generated, the next step is to create the Azure File Share. We create the file share and upload all of the files under the */Share* directory of the downloaded data files. Inside this directory, there are two folders:\n",
    "\n",
    "* **data**: This folder contains data files used by the executable. You will explore the uses of these files in [Step 1 - Explore the Algorithm](ExploreAlgorithm.ipynb).\n",
    "* **scripts_downpour**: This folder contains the actual scripts that will be executed during the batch job. For more information about these scripts, see [Step 1 - Explore the Algorithm](ExploreAlgorithm.ipynb).\n",
    "* **tools**: This folder contains some auxillary tools used to set up the VMs (e.g. [AzCopy](https://docs.microsoft.com/en-us/azure/machine-learning/team-data-science-process/move-data-to-azure-blob-using-azcopy) and [7zip](http://www.7-zip.org/))"
   ]
  },
  {
   "cell_type": "code",
   "execution_count": 16,
   "metadata": {
    "collapsed": false
   },
   "outputs": [
    {
     "data": {
      "text/plain": [
       "True"
      ]
     },
     "execution_count": 16,
     "metadata": {},
     "output_type": "execute_result"
    }
   ],
   "source": [
    "file_service = FileService(account_name = NOTEBOOK_CONFIG['storage_account_name'], account_key=NOTEBOOK_CONFIG['storage_account_key'])\n",
    "file_service.create_share(NOTEBOOK_CONFIG['file_share_name'], fail_on_exist=False)"
   ]
  },
  {
   "cell_type": "markdown",
   "metadata": {},
   "source": [
    "Upload all files to share."
   ]
  },
  {
   "cell_type": "code",
   "execution_count": 17,
   "metadata": {
    "collapsed": false,
    "scrolled": true
   },
   "outputs": [
    {
     "name": "stdout",
     "output_type": "stream",
     "text": [
      "Uploading Share\\data\\pretrain_model_weights.h5 to data...\n"
     ]
    },
    {
     "name": "stderr",
     "output_type": "stream",
     "text": [
      "Client-Request-ID=2871d5d0-25c0-11e8-9555-448500b6217c Retry policy did not allow for a retry: Server-Timestamp=Mon, 12 Mar 2018 06:39:46 GMT, Server-Request-ID=7098abd2-601a-005b-23cc-b952bd000000, HTTP status code=409, Exception=The specified resource already exists.ErrorCode: ResourceAlreadyExists<?xml version=\"1.0\" encoding=\"utf-8\"?><Error><Code>ResourceAlreadyExists</Code><Message>The specified resource already exists.RequestId:7098abd2-601a-005b-23cc-b952bd000000Time:2018-03-12T06:39:47.7672348Z</Message></Error>.\n",
      "Client-Request-ID=28864474-25c0-11e8-b99f-448500b6217c Retry policy did not allow for a retry: Server-Timestamp=Mon, 12 Mar 2018 06:39:46 GMT, Server-Request-ID=7098abd5-601a-005b-26cc-b952bd000000, HTTP status code=409, Exception=The specified resource already exists.ErrorCode: ResourceAlreadyExists<?xml version=\"1.0\" encoding=\"utf-8\"?><Error><Code>ResourceAlreadyExists</Code><Message>The specified resource already exists.RequestId:7098abd5-601a-005b-26cc-b952bd000000Time:2018-03-12T06:39:47.9013285Z</Message></Error>.\n"
     ]
    },
    {
     "name": "stdout",
     "output_type": "stream",
     "text": [
      "Uploading Share\\data\\reward_points.txt to data...\n",
      "Uploading Share\\data\\road_lines.txt to data...\n"
     ]
    },
    {
     "name": "stderr",
     "output_type": "stream",
     "text": [
      "Client-Request-ID=28b17ab6-25c0-11e8-b4ab-448500b6217c Retry policy did not allow for a retry: Server-Timestamp=Mon, 12 Mar 2018 06:39:47 GMT, Server-Request-ID=7098abdb-601a-005b-2ccc-b952bd000000, HTTP status code=409, Exception=The specified resource already exists.ErrorCode: ResourceAlreadyExists<?xml version=\"1.0\" encoding=\"utf-8\"?><Error><Code>ResourceAlreadyExists</Code><Message>The specified resource already exists.RequestId:7098abdb-601a-005b-2ccc-b952bd000000Time:2018-03-12T06:39:48.1835279Z</Message></Error>.\n"
     ]
    },
    {
     "name": "stdout",
     "output_type": "stream",
     "text": [
      "Uploading Share\\scripts_downpour\\manage.py to scripts_downpour...\n",
      "Uploading Share\\scripts_downpour\\run_airsim_on_user_login.xml to scripts_downpour...\n"
     ]
    },
    {
     "name": "stderr",
     "output_type": "stream",
     "text": [
      "Client-Request-ID=28c614a8-25c0-11e8-98a8-448500b6217c Retry policy did not allow for a retry: Server-Timestamp=Mon, 12 Mar 2018 06:39:47 GMT, Server-Request-ID=7098abde-601a-005b-2fcc-b952bd000000, HTTP status code=409, Exception=The specified resource already exists.ErrorCode: ResourceAlreadyExists<?xml version=\"1.0\" encoding=\"utf-8\"?><Error><Code>ResourceAlreadyExists</Code><Message>The specified resource already exists.RequestId:7098abde-601a-005b-2fcc-b952bd000000Time:2018-03-12T06:39:48.3226260Z</Message></Error>.\n"
     ]
    },
    {
     "name": "stdout",
     "output_type": "stream",
     "text": [
      "Uploading Share\\scripts_downpour\\app\\airsim_client.py to scripts_downpour\\app...\n",
      "Uploading Share\\scripts_downpour\\app\\distributed_agent.py to scripts_downpour\\app...\n"
     ]
    },
    {
     "name": "stderr",
     "output_type": "stream",
     "text": [
      "Client-Request-ID=28e37302-25c0-11e8-af6c-448500b6217c Retry policy did not allow for a retry: Server-Timestamp=Mon, 12 Mar 2018 06:39:47 GMT, Server-Request-ID=7098abe2-601a-005b-33cc-b952bd000000, HTTP status code=409, Exception=The specified resource already exists.ErrorCode: ResourceAlreadyExists<?xml version=\"1.0\" encoding=\"utf-8\"?><Error><Code>ResourceAlreadyExists</Code><Message>The specified resource already exists.RequestId:7098abe2-601a-005b-33cc-b952bd000000Time:2018-03-12T06:39:48.5137616Z</Message></Error>.\n",
      "Client-Request-ID=28ea1cf4-25c0-11e8-bcb0-448500b6217c Retry policy did not allow for a retry: Server-Timestamp=Mon, 12 Mar 2018 06:39:47 GMT, Server-Request-ID=7098abe3-601a-005b-34cc-b952bd000000, HTTP status code=409, Exception=The specified resource already exists.ErrorCode: ResourceAlreadyExists<?xml version=\"1.0\" encoding=\"utf-8\"?><Error><Code>ResourceAlreadyExists</Code><Message>The specified resource already exists.RequestId:7098abe3-601a-005b-34cc-b952bd000000Time:2018-03-12T06:39:48.5547892Z</Message></Error>.\n",
      "Client-Request-ID=28ff5d70-25c0-11e8-ac45-448500b6217c Retry policy did not allow for a retry: Server-Timestamp=Mon, 12 Mar 2018 06:39:47 GMT, Server-Request-ID=7098abe6-601a-005b-37cc-b952bd000000, HTTP status code=409, Exception=The specified resource already exists.ErrorCode: ResourceAlreadyExists<?xml version=\"1.0\" encoding=\"utf-8\"?><Error><Code>ResourceAlreadyExists</Code><Message>The specified resource already exists.RequestId:7098abe6-601a-005b-37cc-b952bd000000Time:2018-03-12T06:39:48.6948880Z</Message></Error>.\n",
      "Client-Request-ID=2905bd9c-25c0-11e8-a93d-448500b6217c Retry policy did not allow for a retry: Server-Timestamp=Mon, 12 Mar 2018 06:39:47 GMT, Server-Request-ID=7098abe7-601a-005b-38cc-b952bd000000, HTTP status code=409, Exception=The specified resource already exists.ErrorCode: ResourceAlreadyExists<?xml version=\"1.0\" encoding=\"utf-8\"?><Error><Code>ResourceAlreadyExists</Code><Message>The specified resource already exists.RequestId:7098abe7-601a-005b-38cc-b952bd000000Time:2018-03-12T06:39:48.7359174Z</Message></Error>.\n"
     ]
    },
    {
     "name": "stdout",
     "output_type": "stream",
     "text": [
      "Uploading Share\\scripts_downpour\\app\\rl_model.py to scripts_downpour\\app...\n",
      "Uploading Share\\scripts_downpour\\app\\views.py to scripts_downpour\\app...\n"
     ]
    },
    {
     "name": "stderr",
     "output_type": "stream",
     "text": [
      "Client-Request-ID=29196c86-25c0-11e8-a7df-448500b6217c Retry policy did not allow for a retry: Server-Timestamp=Mon, 12 Mar 2018 06:39:47 GMT, Server-Request-ID=7098abea-601a-005b-3bcc-b952bd000000, HTTP status code=409, Exception=The specified resource already exists.ErrorCode: ResourceAlreadyExists<?xml version=\"1.0\" encoding=\"utf-8\"?><Error><Code>ResourceAlreadyExists</Code><Message>The specified resource already exists.RequestId:7098abea-601a-005b-3bcc-b952bd000000Time:2018-03-12T06:39:48.8860228Z</Message></Error>.\n",
      "Client-Request-ID=2922ce46-25c0-11e8-ba2d-448500b6217c Retry policy did not allow for a retry: Server-Timestamp=Mon, 12 Mar 2018 06:39:47 GMT, Server-Request-ID=7098abeb-601a-005b-3ccc-b952bd000000, HTTP status code=409, Exception=The specified resource already exists.ErrorCode: ResourceAlreadyExists<?xml version=\"1.0\" encoding=\"utf-8\"?><Error><Code>ResourceAlreadyExists</Code><Message>The specified resource already exists.RequestId:7098abeb-601a-005b-3ccc-b952bd000000Time:2018-03-12T06:39:48.9270517Z</Message></Error>.\n",
      "Client-Request-ID=29368c66-25c0-11e8-bfd7-448500b6217c Retry policy did not allow for a retry: Server-Timestamp=Mon, 12 Mar 2018 06:39:48 GMT, Server-Request-ID=7098abee-601a-005b-3fcc-b952bd000000, HTTP status code=409, Exception=The specified resource already exists.ErrorCode: ResourceAlreadyExists<?xml version=\"1.0\" encoding=\"utf-8\"?><Error><Code>ResourceAlreadyExists</Code><Message>The specified resource already exists.RequestId:7098abee-601a-005b-3fcc-b952bd000000Time:2018-03-12T06:39:49.0581442Z</Message></Error>.\n"
     ]
    },
    {
     "name": "stdout",
     "output_type": "stream",
     "text": [
      "Uploading Share\\scripts_downpour\\downpour\\settings.py to scripts_downpour\\downpour...\n",
      "Uploading Share\\scripts_downpour\\downpour\\urls.py to scripts_downpour\\downpour...\n"
     ]
    },
    {
     "name": "stderr",
     "output_type": "stream",
     "text": [
      "Client-Request-ID=29516206-25c0-11e8-a2a5-448500b6217c Retry policy did not allow for a retry: Server-Timestamp=Mon, 12 Mar 2018 06:39:48 GMT, Server-Request-ID=7098abf3-601a-005b-43cc-b952bd000000, HTTP status code=409, Exception=The specified resource already exists.ErrorCode: ResourceAlreadyExists<?xml version=\"1.0\" encoding=\"utf-8\"?><Error><Code>ResourceAlreadyExists</Code><Message>The specified resource already exists.RequestId:7098abf3-601a-005b-43cc-b952bd000000Time:2018-03-12T06:39:49.2312667Z</Message></Error>.\n",
      "Client-Request-ID=295778ee-25c0-11e8-98ab-448500b6217c Retry policy did not allow for a retry: Server-Timestamp=Mon, 12 Mar 2018 06:39:48 GMT, Server-Request-ID=7098abf4-601a-005b-44cc-b952bd000000, HTTP status code=409, Exception=The specified resource already exists.ErrorCode: ResourceAlreadyExists<?xml version=\"1.0\" encoding=\"utf-8\"?><Error><Code>ResourceAlreadyExists</Code><Message>The specified resource already exists.RequestId:7098abf4-601a-005b-44cc-b952bd000000Time:2018-03-12T06:39:49.2722956Z</Message></Error>.\n",
      "Client-Request-ID=296a80fe-25c0-11e8-9d64-448500b6217c Retry policy did not allow for a retry: Server-Timestamp=Mon, 12 Mar 2018 06:39:48 GMT, Server-Request-ID=7098abf7-601a-005b-47cc-b952bd000000, HTTP status code=409, Exception=The specified resource already exists.ErrorCode: ResourceAlreadyExists<?xml version=\"1.0\" encoding=\"utf-8\"?><Error><Code>ResourceAlreadyExists</Code><Message>The specified resource already exists.RequestId:7098abf7-601a-005b-47cc-b952bd000000Time:2018-03-12T06:39:49.3973834Z</Message></Error>.\n",
      "Client-Request-ID=2970e306-25c0-11e8-919d-448500b6217c Retry policy did not allow for a retry: Server-Timestamp=Mon, 12 Mar 2018 06:39:48 GMT, Server-Request-ID=7098abf8-601a-005b-48cc-b952bd000000, HTTP status code=409, Exception=The specified resource already exists.ErrorCode: ResourceAlreadyExists<?xml version=\"1.0\" encoding=\"utf-8\"?><Error><Code>ResourceAlreadyExists</Code><Message>The specified resource already exists.RequestId:7098abf8-601a-005b-48cc-b952bd000000Time:2018-03-12T06:39:49.4394130Z</Message></Error>.\n",
      "Client-Request-ID=2984617a-25c0-11e8-933d-448500b6217c Retry policy did not allow for a retry: Server-Timestamp=Mon, 12 Mar 2018 06:39:48 GMT, Server-Request-ID=7098abfb-601a-005b-4bcc-b952bd000000, HTTP status code=409, Exception=The specified resource already exists.ErrorCode: ResourceAlreadyExists<?xml version=\"1.0\" encoding=\"utf-8\"?><Error><Code>ResourceAlreadyExists</Code><Message>The specified resource already exists.RequestId:7098abfb-601a-005b-4bcc-b952bd000000Time:2018-03-12T06:39:49.5655019Z</Message></Error>.\n"
     ]
    },
    {
     "name": "stdout",
     "output_type": "stream",
     "text": [
      "Uploading Share\\scripts_downpour\\downpour\\wsgi.py to scripts_downpour\\downpour...\n",
      "Uploading Share\\scripts_downpour\\downpour\\__init__.py to scripts_downpour\\downpour...\n"
     ]
    },
    {
     "name": "stderr",
     "output_type": "stream",
     "text": [
      "Client-Request-ID=298aa1e6-25c0-11e8-ad01-448500b6217c Retry policy did not allow for a retry: Server-Timestamp=Mon, 12 Mar 2018 06:39:48 GMT, Server-Request-ID=7098abfc-601a-005b-4ccc-b952bd000000, HTTP status code=409, Exception=The specified resource already exists.ErrorCode: ResourceAlreadyExists<?xml version=\"1.0\" encoding=\"utf-8\"?><Error><Code>ResourceAlreadyExists</Code><Message>The specified resource already exists.RequestId:7098abfc-601a-005b-4ccc-b952bd000000Time:2018-03-12T06:39:49.6075316Z</Message></Error>.\n"
     ]
    },
    {
     "name": "stdout",
     "output_type": "stream",
     "text": [
      "Uploading Share\\tools\\7za.dll to tools...\n"
     ]
    },
    {
     "name": "stderr",
     "output_type": "stream",
     "text": [
      "Client-Request-ID=29d874cc-25c0-11e8-a35f-448500b6217c Retry policy did not allow for a retry: Server-Timestamp=Mon, 12 Mar 2018 06:39:49 GMT, Server-Request-ID=7098ac02-601a-005b-51cc-b952bd000000, HTTP status code=409, Exception=The specified resource already exists.ErrorCode: ResourceAlreadyExists<?xml version=\"1.0\" encoding=\"utf-8\"?><Error><Code>ResourceAlreadyExists</Code><Message>The specified resource already exists.RequestId:7098ac02-601a-005b-51cc-b952bd000000Time:2018-03-12T06:39:50.1198933Z</Message></Error>.\n"
     ]
    },
    {
     "name": "stdout",
     "output_type": "stream",
     "text": [
      "Uploading Share\\tools\\7za.exe to tools...\n"
     ]
    },
    {
     "name": "stderr",
     "output_type": "stream",
     "text": [
      "Client-Request-ID=2a760f24-25c0-11e8-85ab-448500b6217c Retry policy did not allow for a retry: Server-Timestamp=Mon, 12 Mar 2018 06:39:50 GMT, Server-Request-ID=7098ac07-601a-005b-56cc-b952bd000000, HTTP status code=409, Exception=The specified resource already exists.ErrorCode: ResourceAlreadyExists<?xml version=\"1.0\" encoding=\"utf-8\"?><Error><Code>ResourceAlreadyExists</Code><Message>The specified resource already exists.RequestId:7098ac07-601a-005b-56cc-b952bd000000Time:2018-03-12T06:39:51.1716344Z</Message></Error>.\n"
     ]
    },
    {
     "name": "stdout",
     "output_type": "stream",
     "text": [
      "Uploading Share\\tools\\7zxa.dll to tools...\n"
     ]
    },
    {
     "name": "stderr",
     "output_type": "stream",
     "text": [
      "Client-Request-ID=2aa246a2-25c0-11e8-ad7a-448500b6217c Retry policy did not allow for a retry: Server-Timestamp=Mon, 12 Mar 2018 06:39:50 GMT, Server-Request-ID=7098ac0a-601a-005b-59cc-b952bd000000, HTTP status code=409, Exception=The specified resource already exists.ErrorCode: ResourceAlreadyExists<?xml version=\"1.0\" encoding=\"utf-8\"?><Error><Code>ResourceAlreadyExists</Code><Message>The specified resource already exists.RequestId:7098ac0a-601a-005b-59cc-b952bd000000Time:2018-03-12T06:39:51.4438264Z</Message></Error>.\n",
      "Client-Request-ID=2ab83826-25c0-11e8-bc0e-448500b6217c Retry policy did not allow for a retry: Server-Timestamp=Mon, 12 Mar 2018 06:39:50 GMT, Server-Request-ID=7098ac0d-601a-005b-5ccc-b952bd000000, HTTP status code=409, Exception=The specified resource already exists.ErrorCode: ResourceAlreadyExists<?xml version=\"1.0\" encoding=\"utf-8\"?><Error><Code>ResourceAlreadyExists</Code><Message>The specified resource already exists.RequestId:7098ac0d-601a-005b-5ccc-b952bd000000Time:2018-03-12T06:39:51.5889283Z</Message></Error>.\n"
     ]
    },
    {
     "name": "stdout",
     "output_type": "stream",
     "text": [
      "Uploading Share\\tools\\history.txt to tools...\n",
      "Uploading Share\\tools\\License.txt to tools...\n"
     ]
    },
    {
     "name": "stderr",
     "output_type": "stream",
     "text": [
      "Client-Request-ID=2acd03a4-25c0-11e8-ad36-448500b6217c Retry policy did not allow for a retry: Server-Timestamp=Mon, 12 Mar 2018 06:39:50 GMT, Server-Request-ID=7098ac10-601a-005b-5fcc-b952bd000000, HTTP status code=409, Exception=The specified resource already exists.ErrorCode: ResourceAlreadyExists<?xml version=\"1.0\" encoding=\"utf-8\"?><Error><Code>ResourceAlreadyExists</Code><Message>The specified resource already exists.RequestId:7098ac10-601a-005b-5fcc-b952bd000000Time:2018-03-12T06:39:51.7320296Z</Message></Error>.\n"
     ]
    },
    {
     "name": "stdout",
     "output_type": "stream",
     "text": [
      "Uploading Share\\tools\\MicrosoftAzureStorageTools.msi to tools...\n"
     ]
    },
    {
     "name": "stderr",
     "output_type": "stream",
     "text": [
      "Client-Request-ID=2d20ff48-25c0-11e8-a174-448500b6217c Retry policy did not allow for a retry: Server-Timestamp=Mon, 12 Mar 2018 06:39:54 GMT, Server-Request-ID=7098ac16-601a-005b-62cc-b952bd000000, HTTP status code=409, Exception=The specified resource already exists.ErrorCode: ResourceAlreadyExists<?xml version=\"1.0\" encoding=\"utf-8\"?><Error><Code>ResourceAlreadyExists</Code><Message>The specified resource already exists.RequestId:7098ac16-601a-005b-62cc-b952bd000000Time:2018-03-12T06:39:55.6277766Z</Message></Error>.\n",
      "Client-Request-ID=2d370692-25c0-11e8-a176-448500b6217c Retry policy did not allow for a retry: Server-Timestamp=Mon, 12 Mar 2018 06:39:54 GMT, Server-Request-ID=7098ac19-601a-005b-65cc-b952bd000000, HTTP status code=409, Exception=The specified resource already exists.ErrorCode: ResourceAlreadyExists<?xml version=\"1.0\" encoding=\"utf-8\"?><Error><Code>ResourceAlreadyExists</Code><Message>The specified resource already exists.RequestId:7098ac19-601a-005b-65cc-b952bd000000Time:2018-03-12T06:39:55.7708779Z</Message></Error>.\n"
     ]
    },
    {
     "name": "stdout",
     "output_type": "stream",
     "text": [
      "Uploading Share\\tools\\readme.txt to tools...\n",
      "Uploading Share\\tools\\Far\\7-ZipEng.hlf to tools\\Far...\n"
     ]
    },
    {
     "name": "stderr",
     "output_type": "stream",
     "text": [
      "Client-Request-ID=2d533d2e-25c0-11e8-b400-448500b6217c Retry policy did not allow for a retry: Server-Timestamp=Mon, 12 Mar 2018 06:39:55 GMT, Server-Request-ID=7098ac1d-601a-005b-69cc-b952bd000000, HTTP status code=409, Exception=The specified resource already exists.ErrorCode: ResourceAlreadyExists<?xml version=\"1.0\" encoding=\"utf-8\"?><Error><Code>ResourceAlreadyExists</Code><Message>The specified resource already exists.RequestId:7098ac1d-601a-005b-69cc-b952bd000000Time:2018-03-12T06:39:55.9560085Z</Message></Error>.\n",
      "Client-Request-ID=2d59ce70-25c0-11e8-bf73-448500b6217c Retry policy did not allow for a retry: Server-Timestamp=Mon, 12 Mar 2018 06:39:55 GMT, Server-Request-ID=7098ac1e-601a-005b-6acc-b952bd000000, HTTP status code=409, Exception=The specified resource already exists.ErrorCode: ResourceAlreadyExists<?xml version=\"1.0\" encoding=\"utf-8\"?><Error><Code>ResourceAlreadyExists</Code><Message>The specified resource already exists.RequestId:7098ac1e-601a-005b-6acc-b952bd000000Time:2018-03-12T06:39:56.0000391Z</Message></Error>.\n"
     ]
    },
    {
     "name": "stdout",
     "output_type": "stream",
     "text": [
      "Uploading Share\\tools\\Far\\7-ZipEng.lng to tools\\Far...\n",
      "Uploading Share\\tools\\Far\\7-ZipFar.dll to tools\\Far...\n"
     ]
    },
    {
     "name": "stderr",
     "output_type": "stream",
     "text": [
      "Client-Request-ID=2d6e29ac-25c0-11e8-b590-448500b6217c Retry policy did not allow for a retry: Server-Timestamp=Mon, 12 Mar 2018 06:39:55 GMT, Server-Request-ID=7098ac21-601a-005b-6dcc-b952bd000000, HTTP status code=409, Exception=The specified resource already exists.ErrorCode: ResourceAlreadyExists<?xml version=\"1.0\" encoding=\"utf-8\"?><Error><Code>ResourceAlreadyExists</Code><Message>The specified resource already exists.RequestId:7098ac21-601a-005b-6dcc-b952bd000000Time:2018-03-12T06:39:56.1331329Z</Message></Error>.\n",
      "Client-Request-ID=2d7493e2-25c0-11e8-b40f-448500b6217c Retry policy did not allow for a retry: Server-Timestamp=Mon, 12 Mar 2018 06:39:55 GMT, Server-Request-ID=7098ac22-601a-005b-6ecc-b952bd000000, HTTP status code=409, Exception=The specified resource already exists.ErrorCode: ResourceAlreadyExists<?xml version=\"1.0\" encoding=\"utf-8\"?><Error><Code>ResourceAlreadyExists</Code><Message>The specified resource already exists.RequestId:7098ac22-601a-005b-6ecc-b952bd000000Time:2018-03-12T06:39:56.1761633Z</Message></Error>.\n",
      "Client-Request-ID=2db282ae-25c0-11e8-86ab-448500b6217c Retry policy did not allow for a retry: Server-Timestamp=Mon, 12 Mar 2018 06:39:55 GMT, Server-Request-ID=7098ac25-601a-005b-71cc-b952bd000000, HTTP status code=409, Exception=The specified resource already exists.ErrorCode: ResourceAlreadyExists<?xml version=\"1.0\" encoding=\"utf-8\"?><Error><Code>ResourceAlreadyExists</Code><Message>The specified resource already exists.RequestId:7098ac25-601a-005b-71cc-b952bd000000Time:2018-03-12T06:39:56.5794476Z</Message></Error>.\n",
      "Client-Request-ID=2db8b314-25c0-11e8-8ab5-448500b6217c Retry policy did not allow for a retry: Server-Timestamp=Mon, 12 Mar 2018 06:39:55 GMT, Server-Request-ID=7098ac26-601a-005b-72cc-b952bd000000, HTTP status code=409, Exception=The specified resource already exists.ErrorCode: ResourceAlreadyExists<?xml version=\"1.0\" encoding=\"utf-8\"?><Error><Code>ResourceAlreadyExists</Code><Message>The specified resource already exists.RequestId:7098ac26-601a-005b-72cc-b952bd000000Time:2018-03-12T06:39:56.6194767Z</Message></Error>.\n"
     ]
    },
    {
     "name": "stdout",
     "output_type": "stream",
     "text": [
      "Uploading Share\\tools\\Far\\7-ZipFar64.dll to tools\\Far...\n"
     ]
    },
    {
     "name": "stderr",
     "output_type": "stream",
     "text": [
      "Client-Request-ID=2e17fe78-25c0-11e8-8486-448500b6217c Retry policy did not allow for a retry: Server-Timestamp=Mon, 12 Mar 2018 06:39:56 GMT, Server-Request-ID=7098ac2a-601a-005b-75cc-b952bd000000, HTTP status code=409, Exception=The specified resource already exists.ErrorCode: ResourceAlreadyExists<?xml version=\"1.0\" encoding=\"utf-8\"?><Error><Code>ResourceAlreadyExists</Code><Message>The specified resource already exists.RequestId:7098ac2a-601a-005b-75cc-b952bd000000Time:2018-03-12T06:39:57.2449173Z</Message></Error>.\n",
      "Client-Request-ID=2e1e2bfe-25c0-11e8-b4e6-448500b6217c Retry policy did not allow for a retry: Server-Timestamp=Mon, 12 Mar 2018 06:39:56 GMT, Server-Request-ID=7098ac2b-601a-005b-76cc-b952bd000000, HTTP status code=409, Exception=The specified resource already exists.ErrorCode: ResourceAlreadyExists<?xml version=\"1.0\" encoding=\"utf-8\"?><Error><Code>ResourceAlreadyExists</Code><Message>The specified resource already exists.RequestId:7098ac2b-601a-005b-76cc-b952bd000000Time:2018-03-12T06:39:57.2849451Z</Message></Error>.\n"
     ]
    },
    {
     "name": "stdout",
     "output_type": "stream",
     "text": [
      "Uploading Share\\tools\\Far\\7-ZipRus.hlf to tools\\Far...\n",
      "Uploading Share\\tools\\Far\\7-ZipRus.lng to tools\\Far...\n"
     ]
    },
    {
     "name": "stderr",
     "output_type": "stream",
     "text": [
      "Client-Request-ID=2e320090-25c0-11e8-b6ee-448500b6217c Retry policy did not allow for a retry: Server-Timestamp=Mon, 12 Mar 2018 06:39:56 GMT, Server-Request-ID=7098ac2e-601a-005b-79cc-b952bd000000, HTTP status code=409, Exception=The specified resource already exists.ErrorCode: ResourceAlreadyExists<?xml version=\"1.0\" encoding=\"utf-8\"?><Error><Code>ResourceAlreadyExists</Code><Message>The specified resource already exists.RequestId:7098ac2e-601a-005b-79cc-b952bd000000Time:2018-03-12T06:39:57.4150368Z</Message></Error>.\n",
      "Client-Request-ID=2e38ace8-25c0-11e8-b389-448500b6217c Retry policy did not allow for a retry: Server-Timestamp=Mon, 12 Mar 2018 06:39:56 GMT, Server-Request-ID=7098ac2f-601a-005b-7acc-b952bd000000, HTTP status code=409, Exception=The specified resource already exists.ErrorCode: ResourceAlreadyExists<?xml version=\"1.0\" encoding=\"utf-8\"?><Error><Code>ResourceAlreadyExists</Code><Message>The specified resource already exists.RequestId:7098ac2f-601a-005b-7acc-b952bd000000Time:2018-03-12T06:39:57.4590687Z</Message></Error>.\n",
      "Client-Request-ID=2e4ddf10-25c0-11e8-8ad9-448500b6217c Retry policy did not allow for a retry: Server-Timestamp=Mon, 12 Mar 2018 06:39:56 GMT, Server-Request-ID=7098ac32-601a-005b-7dcc-b952bd000000, HTTP status code=409, Exception=The specified resource already exists.ErrorCode: ResourceAlreadyExists<?xml version=\"1.0\" encoding=\"utf-8\"?><Error><Code>ResourceAlreadyExists</Code><Message>The specified resource already exists.RequestId:7098ac32-601a-005b-7dcc-b952bd000000Time:2018-03-12T06:39:57.5981660Z</Message></Error>.\n",
      "Client-Request-ID=2e541a76-25c0-11e8-96f8-448500b6217c Retry policy did not allow for a retry: Server-Timestamp=Mon, 12 Mar 2018 06:39:56 GMT, Server-Request-ID=7098ac33-601a-005b-7ecc-b952bd000000, HTTP status code=409, Exception=The specified resource already exists.ErrorCode: ResourceAlreadyExists<?xml version=\"1.0\" encoding=\"utf-8\"?><Error><Code>ResourceAlreadyExists</Code><Message>The specified resource already exists.RequestId:7098ac33-601a-005b-7ecc-b952bd000000Time:2018-03-12T06:39:57.6391949Z</Message></Error>.\n",
      "Client-Request-ID=2e672b8a-25c0-11e8-bceb-448500b6217c Retry policy did not allow for a retry: Server-Timestamp=Mon, 12 Mar 2018 06:39:56 GMT, Server-Request-ID=7098ac36-601a-005b-01cc-b952bd000000, HTTP status code=409, Exception=The specified resource already exists.ErrorCode: ResourceAlreadyExists<?xml version=\"1.0\" encoding=\"utf-8\"?><Error><Code>ResourceAlreadyExists</Code><Message>The specified resource already exists.RequestId:7098ac36-601a-005b-01cc-b952bd000000Time:2018-03-12T06:39:57.7632820Z</Message></Error>.\n"
     ]
    },
    {
     "name": "stdout",
     "output_type": "stream",
     "text": [
      "Uploading Share\\tools\\Far\\7zToFar.ini to tools\\Far...\n",
      "Uploading Share\\tools\\Far\\far7z.reg to tools\\Far...\n"
     ]
    },
    {
     "name": "stderr",
     "output_type": "stream",
     "text": [
      "Client-Request-ID=2e6d5992-25c0-11e8-967d-448500b6217c Retry policy did not allow for a retry: Server-Timestamp=Mon, 12 Mar 2018 06:39:56 GMT, Server-Request-ID=7098ac37-601a-005b-02cc-b952bd000000, HTTP status code=409, Exception=The specified resource already exists.ErrorCode: ResourceAlreadyExists<?xml version=\"1.0\" encoding=\"utf-8\"?><Error><Code>ResourceAlreadyExists</Code><Message>The specified resource already exists.RequestId:7098ac37-601a-005b-02cc-b952bd000000Time:2018-03-12T06:39:57.8043109Z</Message></Error>.\n",
      "Client-Request-ID=2e8208be-25c0-11e8-8ada-448500b6217c Retry policy did not allow for a retry: Server-Timestamp=Mon, 12 Mar 2018 06:39:56 GMT, Server-Request-ID=7098ac3a-601a-005b-05cc-b952bd000000, HTTP status code=409, Exception=The specified resource already exists.ErrorCode: ResourceAlreadyExists<?xml version=\"1.0\" encoding=\"utf-8\"?><Error><Code>ResourceAlreadyExists</Code><Message>The specified resource already exists.RequestId:7098ac3a-601a-005b-05cc-b952bd000000Time:2018-03-12T06:39:57.9394062Z</Message></Error>.\n",
      "Client-Request-ID=2e884f6e-25c0-11e8-bfb3-448500b6217c Retry policy did not allow for a retry: Server-Timestamp=Mon, 12 Mar 2018 06:39:57 GMT, Server-Request-ID=7098ac3b-601a-005b-06cc-b952bd000000, HTTP status code=409, Exception=The specified resource already exists.ErrorCode: ResourceAlreadyExists<?xml version=\"1.0\" encoding=\"utf-8\"?><Error><Code>ResourceAlreadyExists</Code><Message>The specified resource already exists.RequestId:7098ac3b-601a-005b-06cc-b952bd000000Time:2018-03-12T06:39:57.9794348Z</Message></Error>.\n"
     ]
    },
    {
     "name": "stdout",
     "output_type": "stream",
     "text": [
      "Uploading Share\\tools\\Far\\far7z.txt to tools\\Far...\n"
     ]
    }
   ],
   "source": [
    "def create_directories(path, file_service):\n",
    "    split_dir = path.split('\\\\')\n",
    "    for i in range(1, len(split_dir)+1, 1):\n",
    "        combined_dir = '\\\\'.join(split_dir[:i])\n",
    "        file_service.create_directory(NOTEBOOK_CONFIG['file_share_name'], combined_dir, fail_on_exist=False)\n",
    "\n",
    "for root, directories, files in os.walk('Share'):\n",
    "    for file in files:\n",
    "        regex_pattern = '{0}[\\\\\\\\]?'.format('Share').replace('\\\\', '\\\\\\\\')\n",
    "        upload_directory = re.sub(regex_pattern, '', root)\n",
    "        print('Uploading {0} to {1}...'.format(os.path.join(root, file), upload_directory))\n",
    "        if (len(upload_directory) == 0):\n",
    "            upload_directory = None\n",
    "        if (upload_directory != None):\n",
    "            create_directories(upload_directory, file_service)\n",
    "        file_service.create_file_from_path(          \n",
    "            NOTEBOOK_CONFIG['file_share_name'], \n",
    "            upload_directory,                   \n",
    "            file,                               \n",
    "            os.path.join(root, file)            \n",
    "            )\n",
    "        \n",
    "        "
   ]
  },
  {
   "cell_type": "markdown",
   "metadata": {},
   "source": [
    "When provisioning the machines for the Azure Batch pool, it is necessary to pull some of the setup scripts from blob. So in this step, we upload these prerequisite files to the blob storage. "
   ]
  },
  {
   "cell_type": "code",
   "execution_count": 18,
   "metadata": {
    "collapsed": true
   },
   "outputs": [],
   "source": [
    "block_blob_service = BlockBlobService(account_name = NOTEBOOK_CONFIG['storage_account_name'], account_key = NOTEBOOK_CONFIG['storage_account_key'])\n",
    "block_blob_service.create_container('prereq', public_access = PublicAccess.Container)\n",
    "\n",
    "for root, directories, files in os.walk('Blob'):\n",
    "    for file in files:\n",
    "        block_blob_service.create_blob_from_path( \n",
    "            'prereq',                             \n",
    "            file,                                 \n",
    "            os.path.join(root, file)              \n",
    "            )"
   ]
  },
  {
   "cell_type": "markdown",
   "metadata": {},
   "source": [
    "We have a custom image that has the proper drivers installed to run AirSim. To create this image, we will run a powershell script that will copy the image from our storage account to your storage account. Ensure that you have the latest version of the [AzCopy utility](https://docs.microsoft.com/en-us/azure/storage/common/storage-use-azcopy) installed and in your path (i.e. running 'azcopy' at the command line should yield the help page). In addition, ensure that you have the latest version of [Azure Powershell](https://docs.microsoft.com/en-us/powershell/azure/install-azurerm-ps?view=azurermps-5.3.0) installed. This command can take up to an hour to run."
   ]
  },
  {
   "cell_type": "code",
   "execution_count": 31,
   "metadata": {
    "collapsed": false
   },
   "outputs": [
    {
     "data": {
      "text/plain": [
       "0"
      ]
     },
     "execution_count": 31,
     "metadata": {},
     "output_type": "execute_result"
    }
   ],
   "source": [
    "os.system('powershell.exe \".\\\\CreateImage.ps1 -subscriptionId {0} -storageAccountName {1} -storageAccountKey {2} -resourceGroupName {3}'\\\n",
    "          .format(NOTEBOOK_CONFIG['subscription_id'], NOTEBOOK_CONFIG['storage_account_name'], NOTEBOOK_CONFIG['storage_account_key'], NOTEBOOK_CONFIG['resource_group_name']))"
   ]
  },
  {
   "cell_type": "markdown",
   "metadata": {},
   "source": [
    "Finally, we create the pool of machines that will run our experiment. The important aspects of the machine configuration are:\n",
    "\n",
    "* **image_reference**: We specify the data science VM to ensure that we have the correct drivers installed that will allow us to utilize the GPU.\n",
    "* **vm_size**: The AirSim executable will only run on NV-series virtual machines, so we choose the NV6 VM SKU for this tutorial. (You can later change this in *Template/pool.json.template*. Please make sure you choose an NV-series VM if you do this.)\n",
    "* **target_dedicated_nodes**: The number of nodes to provision for the cluster. Note that 1 node will become your trainer, and the rest will become the agent. Ensure that there are enough cores available in your batch account to provision the number of VMs you are requesting - for example, the NV6 machines utilize 4 cores for each machine provisioned.\n",
    "* **enable_inter_node_communication**: This parameter will allow the nodes to communicate with each other. Enabling this parameter limits the number of nodes to 40.\n",
    "* **user_accounts**: We define an admin user to run the batch jobs. This user will also be used to log into the VMs and visualize the progress\n",
    "* **start_task**: This is the task that will be run when the machines are being provisioned. In this phase, we download the prereq scripts and run them in the python environment. This will install the necessary python libraries and configure the machine to use AirSim.\n",
    "\n",
    "We will use the azure CLI to deploy the cluster. The complete configuration used for the cluster can be seen in the generated pool.json file. Note that to use the CLI, you will need to manually authenticate. Check the terminal window for authentication instructions when running this code segment."
   ]
  },
  {
   "cell_type": "code",
   "execution_count": 5,
   "metadata": {
    "collapsed": false
   },
   "outputs": [
    {
     "name": "stdout",
     "output_type": "stream",
     "text": [
      "Executing command. Check the terminal output for authentication instructions.\n"
     ]
    },
    {
     "data": {
      "text/plain": [
       "0"
      ]
     },
     "execution_count": 5,
     "metadata": {},
     "output_type": "execute_result"
    }
   ],
   "source": [
    "with open('Template\\\\pool.json.template', 'r') as f:\n",
    "    pool_config = f.read()\n",
    "    \n",
    "pool_config = pool_config\\\n",
    "                .replace('{batch_pool_name}', NOTEBOOK_CONFIG['batch_pool_name'])\\\n",
    "                .replace('{subscription_id}', NOTEBOOK_CONFIG['subscription_id'])\\\n",
    "                .replace('{resource_group_name}', NOTEBOOK_CONFIG['resource_group_name'])\\\n",
    "                .replace('{storage_account_name}', NOTEBOOK_CONFIG['storage_account_name'])\\\n",
    "                .replace('{batch_job_user_name}', NOTEBOOK_CONFIG['batch_job_user_name'])\\\n",
    "                .replace('{batch_job_user_password}', NOTEBOOK_CONFIG['batch_job_user_password'])\\\n",
    "                .replace('{batch_pool_size}', str(NOTEBOOK_CONFIG['batch_pool_size']))\n",
    "\n",
    "with open('pool.json', 'w') as f:\n",
    "    f.write(pool_config)\n",
    "    \n",
    "create_cmd = 'powershell.exe \".\\ProvisionCluster.ps1 -subscriptionId {0} -resourceGroupName {1} -batchAccountName {2}\"'\\\n",
    "    .format(NOTEBOOK_CONFIG['subscription_id'], NOTEBOOK_CONFIG['resource_group_name'], NOTEBOOK_CONFIG['batch_account_name'])\n",
    "    \n",
    "print('Executing command. Check the terminal output for authentication instructions.')\n",
    "\n",
    "os.system(create_cmd)"
   ]
  },
  {
   "cell_type": "markdown",
   "metadata": {},
   "source": [
    "Once this task finishes, you should see the pool created in your Batch account, and you are ready to move on to **[Step 1 - Explore the Algorithm](ExploreAlgorithm.ipynb)** "
   ]
  }
 ],
 "metadata": {
  "anaconda-cloud": {},
  "kernelspec": {
   "display_name": "Python [default]",
   "language": "python",
   "name": "python3"
  },
  "language_info": {
   "codemirror_mode": {
    "name": "ipython",
    "version": 3
   },
   "file_extension": ".py",
   "mimetype": "text/x-python",
   "name": "python",
   "nbconvert_exporter": "python",
   "pygments_lexer": "ipython3",
   "version": "3.5.2"
  }
 },
 "nbformat": 4,
 "nbformat_minor": 2
}
